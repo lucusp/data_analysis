{
  "nbformat": 4,
  "nbformat_minor": 0,
  "metadata": {
    "colab": {
      "name": "Page-View-Time-Series-Visualizer",
      "provenance": [],
      "collapsed_sections": [],
      "mount_file_id": "1edyOV26m72-weS-GQIoL5m9UuzgpIqZB",
      "authorship_tag": "ABX9TyOY3+h+NNyu8JvqLhQ16BDo",
      "include_colab_link": true
    },
    "kernelspec": {
      "name": "python3",
      "display_name": "Python 3"
    }
  },
  "cells": [
    {
      "cell_type": "markdown",
      "metadata": {
        "id": "view-in-github",
        "colab_type": "text"
      },
      "source": [
        "<a href=\"https://colab.research.google.com/github/lucusp/data_analysis/blob/main/Page_View_Time_Series_Visualizer.ipynb\" target=\"_parent\"><img src=\"https://colab.research.google.com/assets/colab-badge.svg\" alt=\"Open In Colab\"/></a>"
      ]
    },
    {
      "cell_type": "code",
      "metadata": {
        "id": "iN-JJKidOmWB"
      },
      "source": [
        "import matplotlib.pyplot as plt\r\n",
        "import pandas as pd\r\n",
        "import seaborn as sns\r\n",
        "from pandas.plotting import register_matplotlib_converters \r\n",
        "register_matplotlib_converters()"
      ],
      "execution_count": null,
      "outputs": []
    },
    {
      "cell_type": "code",
      "metadata": {
        "colab": {
          "base_uri": "https://localhost:8080/",
          "height": 431
        },
        "id": "TYxGQpdJRPxz",
        "outputId": "d77d5350-b1b7-468a-e922-739fdc20b9cb"
      },
      "source": [
        "df = pd.read_csv(f'drive/MyDrive/fcc-forum-pageviews.csv')\r\n",
        "df['date']= df['date'].astype('datetime64[ns]')\r\n",
        "df = df.set_index('date')\r\n",
        "\r\n",
        "df"
      ],
      "execution_count": null,
      "outputs": [
        {
          "output_type": "execute_result",
          "data": {
            "text/html": [
              "<div>\n",
              "<style scoped>\n",
              "    .dataframe tbody tr th:only-of-type {\n",
              "        vertical-align: middle;\n",
              "    }\n",
              "\n",
              "    .dataframe tbody tr th {\n",
              "        vertical-align: top;\n",
              "    }\n",
              "\n",
              "    .dataframe thead th {\n",
              "        text-align: right;\n",
              "    }\n",
              "</style>\n",
              "<table border=\"1\" class=\"dataframe\">\n",
              "  <thead>\n",
              "    <tr style=\"text-align: right;\">\n",
              "      <th></th>\n",
              "      <th>value</th>\n",
              "    </tr>\n",
              "    <tr>\n",
              "      <th>date</th>\n",
              "      <th></th>\n",
              "    </tr>\n",
              "  </thead>\n",
              "  <tbody>\n",
              "    <tr>\n",
              "      <th>2016-05-09</th>\n",
              "      <td>1201</td>\n",
              "    </tr>\n",
              "    <tr>\n",
              "      <th>2016-05-10</th>\n",
              "      <td>2329</td>\n",
              "    </tr>\n",
              "    <tr>\n",
              "      <th>2016-05-11</th>\n",
              "      <td>1716</td>\n",
              "    </tr>\n",
              "    <tr>\n",
              "      <th>2016-05-12</th>\n",
              "      <td>10539</td>\n",
              "    </tr>\n",
              "    <tr>\n",
              "      <th>2016-05-13</th>\n",
              "      <td>6933</td>\n",
              "    </tr>\n",
              "    <tr>\n",
              "      <th>...</th>\n",
              "      <td>...</td>\n",
              "    </tr>\n",
              "    <tr>\n",
              "      <th>2019-11-29</th>\n",
              "      <td>171584</td>\n",
              "    </tr>\n",
              "    <tr>\n",
              "      <th>2019-11-30</th>\n",
              "      <td>141161</td>\n",
              "    </tr>\n",
              "    <tr>\n",
              "      <th>2019-12-01</th>\n",
              "      <td>142918</td>\n",
              "    </tr>\n",
              "    <tr>\n",
              "      <th>2019-12-02</th>\n",
              "      <td>220144</td>\n",
              "    </tr>\n",
              "    <tr>\n",
              "      <th>2019-12-03</th>\n",
              "      <td>158549</td>\n",
              "    </tr>\n",
              "  </tbody>\n",
              "</table>\n",
              "<p>1304 rows × 1 columns</p>\n",
              "</div>"
            ],
            "text/plain": [
              "             value\n",
              "date              \n",
              "2016-05-09    1201\n",
              "2016-05-10    2329\n",
              "2016-05-11    1716\n",
              "2016-05-12   10539\n",
              "2016-05-13    6933\n",
              "...            ...\n",
              "2019-11-29  171584\n",
              "2019-11-30  141161\n",
              "2019-12-01  142918\n",
              "2019-12-02  220144\n",
              "2019-12-03  158549\n",
              "\n",
              "[1304 rows x 1 columns]"
            ]
          },
          "metadata": {
            "tags": []
          },
          "execution_count": 2
        }
      ]
    },
    {
      "cell_type": "code",
      "metadata": {
        "colab": {
          "base_uri": "https://localhost:8080/",
          "height": 431
        },
        "id": "oN6ELBsZSc_5",
        "outputId": "58adf18c-6a6c-4e12-8fba-b58f3bce8f40"
      },
      "source": [
        "df = df[(df['value'] >= df['value'].quantile(0.025)) & (df['value'] <= df['value'].quantile(0.975))]\r\n",
        "\r\n",
        "df"
      ],
      "execution_count": null,
      "outputs": [
        {
          "output_type": "execute_result",
          "data": {
            "text/html": [
              "<div>\n",
              "<style scoped>\n",
              "    .dataframe tbody tr th:only-of-type {\n",
              "        vertical-align: middle;\n",
              "    }\n",
              "\n",
              "    .dataframe tbody tr th {\n",
              "        vertical-align: top;\n",
              "    }\n",
              "\n",
              "    .dataframe thead th {\n",
              "        text-align: right;\n",
              "    }\n",
              "</style>\n",
              "<table border=\"1\" class=\"dataframe\">\n",
              "  <thead>\n",
              "    <tr style=\"text-align: right;\">\n",
              "      <th></th>\n",
              "      <th>value</th>\n",
              "    </tr>\n",
              "    <tr>\n",
              "      <th>date</th>\n",
              "      <th></th>\n",
              "    </tr>\n",
              "  </thead>\n",
              "  <tbody>\n",
              "    <tr>\n",
              "      <th>2016-05-19</th>\n",
              "      <td>19736</td>\n",
              "    </tr>\n",
              "    <tr>\n",
              "      <th>2016-05-26</th>\n",
              "      <td>18060</td>\n",
              "    </tr>\n",
              "    <tr>\n",
              "      <th>2016-05-27</th>\n",
              "      <td>19997</td>\n",
              "    </tr>\n",
              "    <tr>\n",
              "      <th>2016-05-28</th>\n",
              "      <td>19044</td>\n",
              "    </tr>\n",
              "    <tr>\n",
              "      <th>2016-05-29</th>\n",
              "      <td>20325</td>\n",
              "    </tr>\n",
              "    <tr>\n",
              "      <th>...</th>\n",
              "      <td>...</td>\n",
              "    </tr>\n",
              "    <tr>\n",
              "      <th>2019-11-24</th>\n",
              "      <td>138875</td>\n",
              "    </tr>\n",
              "    <tr>\n",
              "      <th>2019-11-29</th>\n",
              "      <td>171584</td>\n",
              "    </tr>\n",
              "    <tr>\n",
              "      <th>2019-11-30</th>\n",
              "      <td>141161</td>\n",
              "    </tr>\n",
              "    <tr>\n",
              "      <th>2019-12-01</th>\n",
              "      <td>142918</td>\n",
              "    </tr>\n",
              "    <tr>\n",
              "      <th>2019-12-03</th>\n",
              "      <td>158549</td>\n",
              "    </tr>\n",
              "  </tbody>\n",
              "</table>\n",
              "<p>1238 rows × 1 columns</p>\n",
              "</div>"
            ],
            "text/plain": [
              "             value\n",
              "date              \n",
              "2016-05-19   19736\n",
              "2016-05-26   18060\n",
              "2016-05-27   19997\n",
              "2016-05-28   19044\n",
              "2016-05-29   20325\n",
              "...            ...\n",
              "2019-11-24  138875\n",
              "2019-11-29  171584\n",
              "2019-11-30  141161\n",
              "2019-12-01  142918\n",
              "2019-12-03  158549\n",
              "\n",
              "[1238 rows x 1 columns]"
            ]
          },
          "metadata": {
            "tags": []
          },
          "execution_count": 3
        }
      ]
    },
    {
      "cell_type": "code",
      "metadata": {
        "colab": {
          "base_uri": "https://localhost:8080/",
          "height": 421
        },
        "id": "9UYxDfHMoJb-",
        "outputId": "3efa6b4f-ff3c-4d03-dbca-3e1d24346b37"
      },
      "source": [
        "fig, ax = plt.subplots(figsize=(12,6))\r\n",
        "ax.plot(df)\r\n",
        "ax.set_xlabel('Date')\r\n",
        "ax.set_ylabel('Page Views')\r\n",
        "ax.set_title('Daily freeCodeCamp Forum Page Views 5/2016-12/2019')"
      ],
      "execution_count": null,
      "outputs": [
        {
          "output_type": "execute_result",
          "data": {
            "text/plain": [
              "Text(0.5, 1.0, 'Daily freeCodeCamp Forum Page Views 5/2016-12/2019')"
            ]
          },
          "metadata": {
            "tags": []
          },
          "execution_count": 4
        },
        {
          "output_type": "display_data",
          "data": {
            "image/png": "[encoded data removed]",
            "text/plain": [
              "<Figure size 864x432 with 1 Axes>"
            ]
          },
          "metadata": {
            "tags": [],
            "needs_background": "light"
          }
        }
      ]
    },
    {
      "cell_type": "code",
      "metadata": {
        "colab": {
          "base_uri": "https://localhost:8080/",
          "height": 402
        },
        "id": "CJ1XGeEsr2B8",
        "outputId": "a0c5a784-f16f-480f-d4f2-6856f3a3106a"
      },
      "source": [
        "df_bar = df.copy().reset_index()\r\n",
        "\r\n",
        "df_bar"
      ],
      "execution_count": null,
      "outputs": [
        {
          "output_type": "execute_result",
          "data": {
            "text/html": [
              "<div>\n",
              "<style scoped>\n",
              "    .dataframe tbody tr th:only-of-type {\n",
              "        vertical-align: middle;\n",
              "    }\n",
              "\n",
              "    .dataframe tbody tr th {\n",
              "        vertical-align: top;\n",
              "    }\n",
              "\n",
              "    .dataframe thead th {\n",
              "        text-align: right;\n",
              "    }\n",
              "</style>\n",
              "<table border=\"1\" class=\"dataframe\">\n",
              "  <thead>\n",
              "    <tr style=\"text-align: right;\">\n",
              "      <th></th>\n",
              "      <th>date</th>\n",
              "      <th>value</th>\n",
              "    </tr>\n",
              "  </thead>\n",
              "  <tbody>\n",
              "    <tr>\n",
              "      <th>0</th>\n",
              "      <td>2016-05-19</td>\n",
              "      <td>19736</td>\n",
              "    </tr>\n",
              "    <tr>\n",
              "      <th>1</th>\n",
              "      <td>2016-05-26</td>\n",
              "      <td>18060</td>\n",
              "    </tr>\n",
              "    <tr>\n",
              "      <th>2</th>\n",
              "      <td>2016-05-27</td>\n",
              "      <td>19997</td>\n",
              "    </tr>\n",
              "    <tr>\n",
              "      <th>3</th>\n",
              "      <td>2016-05-28</td>\n",
              "      <td>19044</td>\n",
              "    </tr>\n",
              "    <tr>\n",
              "      <th>4</th>\n",
              "      <td>2016-05-29</td>\n",
              "      <td>20325</td>\n",
              "    </tr>\n",
              "    <tr>\n",
              "      <th>...</th>\n",
              "      <td>...</td>\n",
              "      <td>...</td>\n",
              "    </tr>\n",
              "    <tr>\n",
              "      <th>1233</th>\n",
              "      <td>2019-11-24</td>\n",
              "      <td>138875</td>\n",
              "    </tr>\n",
              "    <tr>\n",
              "      <th>1234</th>\n",
              "      <td>2019-11-29</td>\n",
              "      <td>171584</td>\n",
              "    </tr>\n",
              "    <tr>\n",
              "      <th>1235</th>\n",
              "      <td>2019-11-30</td>\n",
              "      <td>141161</td>\n",
              "    </tr>\n",
              "    <tr>\n",
              "      <th>1236</th>\n",
              "      <td>2019-12-01</td>\n",
              "      <td>142918</td>\n",
              "    </tr>\n",
              "    <tr>\n",
              "      <th>1237</th>\n",
              "      <td>2019-12-03</td>\n",
              "      <td>158549</td>\n",
              "    </tr>\n",
              "  </tbody>\n",
              "</table>\n",
              "<p>1238 rows × 2 columns</p>\n",
              "</div>"
            ],
            "text/plain": [
              "           date   value\n",
              "0    2016-05-19   19736\n",
              "1    2016-05-26   18060\n",
              "2    2016-05-27   19997\n",
              "3    2016-05-28   19044\n",
              "4    2016-05-29   20325\n",
              "...         ...     ...\n",
              "1233 2019-11-24  138875\n",
              "1234 2019-11-29  171584\n",
              "1235 2019-11-30  141161\n",
              "1236 2019-12-01  142918\n",
              "1237 2019-12-03  158549\n",
              "\n",
              "[1238 rows x 2 columns]"
            ]
          },
          "metadata": {
            "tags": []
          },
          "execution_count": 5
        }
      ]
    },
    {
      "cell_type": "code",
      "metadata": {
        "colab": {
          "base_uri": "https://localhost:8080/"
        },
        "id": "jt2AFo2kt3F7",
        "outputId": "36931b2f-30fa-4625-d57b-1b433102ecc5"
      },
      "source": [
        "df_bar.info()"
      ],
      "execution_count": null,
      "outputs": [
        {
          "output_type": "stream",
          "text": [
            "<class 'pandas.core.frame.DataFrame'>\n",
            "RangeIndex: 1238 entries, 0 to 1237\n",
            "Data columns (total 2 columns):\n",
            " #   Column  Non-Null Count  Dtype         \n",
            "---  ------  --------------  -----         \n",
            " 0   date    1238 non-null   datetime64[ns]\n",
            " 1   value   1238 non-null   int64         \n",
            "dtypes: datetime64[ns](1), int64(1)\n",
            "memory usage: 19.5 KB\n"
          ],
          "name": "stdout"
        }
      ]
    },
    {
      "cell_type": "code",
      "metadata": {
        "colab": {
          "base_uri": "https://localhost:8080/",
          "height": 402
        },
        "id": "4wEJzFLhsPV7",
        "outputId": "29dfbf7a-1c0d-48c4-b0e6-f28b1f3582ad"
      },
      "source": [
        "\r\n",
        "\r\n",
        "df_bar['month'] = pd.DatetimeIndex(df_bar['date']).month_name()\r\n",
        "df_bar['month_num'] = pd.DatetimeIndex(df_bar['date']).month_\r\n",
        "df_bar['year'] = pd.DatetimeIndex(df_bar['date']).year\r\n",
        "\r\n",
        "df_bar"
      ],
      "execution_count": null,
      "outputs": [
        {
          "output_type": "execute_result",
          "data": {
            "text/html": [
              "<div>\n",
              "<style scoped>\n",
              "    .dataframe tbody tr th:only-of-type {\n",
              "        vertical-align: middle;\n",
              "    }\n",
              "\n",
              "    .dataframe tbody tr th {\n",
              "        vertical-align: top;\n",
              "    }\n",
              "\n",
              "    .dataframe thead th {\n",
              "        text-align: right;\n",
              "    }\n",
              "</style>\n",
              "<table border=\"1\" class=\"dataframe\">\n",
              "  <thead>\n",
              "    <tr style=\"text-align: right;\">\n",
              "      <th></th>\n",
              "      <th>date</th>\n",
              "      <th>value</th>\n",
              "      <th>month</th>\n",
              "      <th>month_num</th>\n",
              "      <th>year</th>\n",
              "    </tr>\n",
              "  </thead>\n",
              "  <tbody>\n",
              "    <tr>\n",
              "      <th>0</th>\n",
              "      <td>2016-05-19</td>\n",
              "      <td>19736</td>\n",
              "      <td>May</td>\n",
              "      <td>5</td>\n",
              "      <td>2016</td>\n",
              "    </tr>\n",
              "    <tr>\n",
              "      <th>1</th>\n",
              "      <td>2016-05-26</td>\n",
              "      <td>18060</td>\n",
              "      <td>May</td>\n",
              "      <td>5</td>\n",
              "      <td>2016</td>\n",
              "    </tr>\n",
              "    <tr>\n",
              "      <th>2</th>\n",
              "      <td>2016-05-27</td>\n",
              "      <td>19997</td>\n",
              "      <td>May</td>\n",
              "      <td>5</td>\n",
              "      <td>2016</td>\n",
              "    </tr>\n",
              "    <tr>\n",
              "      <th>3</th>\n",
              "      <td>2016-05-28</td>\n",
              "      <td>19044</td>\n",
              "      <td>May</td>\n",
              "      <td>5</td>\n",
              "      <td>2016</td>\n",
              "    </tr>\n",
              "    <tr>\n",
              "      <th>4</th>\n",
              "      <td>2016-05-29</td>\n",
              "      <td>20325</td>\n",
              "      <td>May</td>\n",
              "      <td>5</td>\n",
              "      <td>2016</td>\n",
              "    </tr>\n",
              "    <tr>\n",
              "      <th>...</th>\n",
              "      <td>...</td>\n",
              "      <td>...</td>\n",
              "      <td>...</td>\n",
              "      <td>...</td>\n",
              "      <td>...</td>\n",
              "    </tr>\n",
              "    <tr>\n",
              "      <th>1233</th>\n",
              "      <td>2019-11-24</td>\n",
              "      <td>138875</td>\n",
              "      <td>November</td>\n",
              "      <td>11</td>\n",
              "      <td>2019</td>\n",
              "    </tr>\n",
              "    <tr>\n",
              "      <th>1234</th>\n",
              "      <td>2019-11-29</td>\n",
              "      <td>171584</td>\n",
              "      <td>November</td>\n",
              "      <td>11</td>\n",
              "      <td>2019</td>\n",
              "    </tr>\n",
              "    <tr>\n",
              "      <th>1235</th>\n",
              "      <td>2019-11-30</td>\n",
              "      <td>141161</td>\n",
              "      <td>November</td>\n",
              "      <td>11</td>\n",
              "      <td>2019</td>\n",
              "    </tr>\n",
              "    <tr>\n",
              "      <th>1236</th>\n",
              "      <td>2019-12-01</td>\n",
              "      <td>142918</td>\n",
              "      <td>December</td>\n",
              "      <td>12</td>\n",
              "      <td>2019</td>\n",
              "    </tr>\n",
              "    <tr>\n",
              "      <th>1237</th>\n",
              "      <td>2019-12-03</td>\n",
              "      <td>158549</td>\n",
              "      <td>December</td>\n",
              "      <td>12</td>\n",
              "      <td>2019</td>\n",
              "    </tr>\n",
              "  </tbody>\n",
              "</table>\n",
              "<p>1238 rows × 5 columns</p>\n",
              "</div>"
            ],
            "text/plain": [
              "           date   value     month  month_num  year\n",
              "0    2016-05-19   19736       May          5  2016\n",
              "1    2016-05-26   18060       May          5  2016\n",
              "2    2016-05-27   19997       May          5  2016\n",
              "3    2016-05-28   19044       May          5  2016\n",
              "4    2016-05-29   20325       May          5  2016\n",
              "...         ...     ...       ...        ...   ...\n",
              "1233 2019-11-24  138875  November         11  2019\n",
              "1234 2019-11-29  171584  November         11  2019\n",
              "1235 2019-11-30  141161  November         11  2019\n",
              "1236 2019-12-01  142918  December         12  2019\n",
              "1237 2019-12-03  158549  December         12  2019\n",
              "\n",
              "[1238 rows x 5 columns]"
            ]
          },
          "metadata": {
            "tags": []
          },
          "execution_count": 7
        }
      ]
    },
    {
      "cell_type": "code",
      "metadata": {
        "colab": {
          "base_uri": "https://localhost:8080/",
          "height": 1000
        },
        "id": "yar9WcWnrAoN",
        "outputId": "f3162180-3949-49d4-9978-99b454422503"
      },
      "source": [
        "df_bar = df_bar.groupby(['year','month','month_num'])['value'].mean().reset_index().sort_values(['year','month_num'])\r\n",
        "\r\n",
        "df_bar"
      ],
      "execution_count": null,
      "outputs": [
        {
          "output_type": "execute_result",
          "data": {
            "text/html": [
              "<div>\n",
              "<style scoped>\n",
              "    .dataframe tbody tr th:only-of-type {\n",
              "        vertical-align: middle;\n",
              "    }\n",
              "\n",
              "    .dataframe tbody tr th {\n",
              "        vertical-align: top;\n",
              "    }\n",
              "\n",
              "    .dataframe thead th {\n",
              "        text-align: right;\n",
              "    }\n",
              "</style>\n",
              "<table border=\"1\" class=\"dataframe\">\n",
              "  <thead>\n",
              "    <tr style=\"text-align: right;\">\n",
              "      <th></th>\n",
              "      <th>year</th>\n",
              "      <th>month</th>\n",
              "      <th>month_num</th>\n",
              "      <th>value</th>\n",
              "    </tr>\n",
              "  </thead>\n",
              "  <tbody>\n",
              "    <tr>\n",
              "      <th>4</th>\n",
              "      <td>2016</td>\n",
              "      <td>May</td>\n",
              "      <td>5</td>\n",
              "      <td>19432.400000</td>\n",
              "    </tr>\n",
              "    <tr>\n",
              "      <th>3</th>\n",
              "      <td>2016</td>\n",
              "      <td>June</td>\n",
              "      <td>6</td>\n",
              "      <td>21875.105263</td>\n",
              "    </tr>\n",
              "    <tr>\n",
              "      <th>2</th>\n",
              "      <td>2016</td>\n",
              "      <td>July</td>\n",
              "      <td>7</td>\n",
              "      <td>24109.678571</td>\n",
              "    </tr>\n",
              "    <tr>\n",
              "      <th>0</th>\n",
              "      <td>2016</td>\n",
              "      <td>August</td>\n",
              "      <td>8</td>\n",
              "      <td>31049.193548</td>\n",
              "    </tr>\n",
              "    <tr>\n",
              "      <th>7</th>\n",
              "      <td>2016</td>\n",
              "      <td>September</td>\n",
              "      <td>9</td>\n",
              "      <td>41476.866667</td>\n",
              "    </tr>\n",
              "    <tr>\n",
              "      <th>6</th>\n",
              "      <td>2016</td>\n",
              "      <td>October</td>\n",
              "      <td>10</td>\n",
              "      <td>27398.322581</td>\n",
              "    </tr>\n",
              "    <tr>\n",
              "      <th>5</th>\n",
              "      <td>2016</td>\n",
              "      <td>November</td>\n",
              "      <td>11</td>\n",
              "      <td>40448.633333</td>\n",
              "    </tr>\n",
              "    <tr>\n",
              "      <th>1</th>\n",
              "      <td>2016</td>\n",
              "      <td>December</td>\n",
              "      <td>12</td>\n",
              "      <td>27832.419355</td>\n",
              "    </tr>\n",
              "    <tr>\n",
              "      <th>12</th>\n",
              "      <td>2017</td>\n",
              "      <td>January</td>\n",
              "      <td>1</td>\n",
              "      <td>32785.161290</td>\n",
              "    </tr>\n",
              "    <tr>\n",
              "      <th>11</th>\n",
              "      <td>2017</td>\n",
              "      <td>February</td>\n",
              "      <td>2</td>\n",
              "      <td>31113.071429</td>\n",
              "    </tr>\n",
              "    <tr>\n",
              "      <th>15</th>\n",
              "      <td>2017</td>\n",
              "      <td>March</td>\n",
              "      <td>3</td>\n",
              "      <td>29369.096774</td>\n",
              "    </tr>\n",
              "    <tr>\n",
              "      <th>8</th>\n",
              "      <td>2017</td>\n",
              "      <td>April</td>\n",
              "      <td>4</td>\n",
              "      <td>30878.733333</td>\n",
              "    </tr>\n",
              "    <tr>\n",
              "      <th>16</th>\n",
              "      <td>2017</td>\n",
              "      <td>May</td>\n",
              "      <td>5</td>\n",
              "      <td>34244.290323</td>\n",
              "    </tr>\n",
              "    <tr>\n",
              "      <th>14</th>\n",
              "      <td>2017</td>\n",
              "      <td>June</td>\n",
              "      <td>6</td>\n",
              "      <td>43577.500000</td>\n",
              "    </tr>\n",
              "    <tr>\n",
              "      <th>13</th>\n",
              "      <td>2017</td>\n",
              "      <td>July</td>\n",
              "      <td>7</td>\n",
              "      <td>65806.838710</td>\n",
              "    </tr>\n",
              "    <tr>\n",
              "      <th>9</th>\n",
              "      <td>2017</td>\n",
              "      <td>August</td>\n",
              "      <td>8</td>\n",
              "      <td>47712.451613</td>\n",
              "    </tr>\n",
              "    <tr>\n",
              "      <th>19</th>\n",
              "      <td>2017</td>\n",
              "      <td>September</td>\n",
              "      <td>9</td>\n",
              "      <td>47376.800000</td>\n",
              "    </tr>\n",
              "    <tr>\n",
              "      <th>18</th>\n",
              "      <td>2017</td>\n",
              "      <td>October</td>\n",
              "      <td>10</td>\n",
              "      <td>47438.709677</td>\n",
              "    </tr>\n",
              "    <tr>\n",
              "      <th>17</th>\n",
              "      <td>2017</td>\n",
              "      <td>November</td>\n",
              "      <td>11</td>\n",
              "      <td>57701.566667</td>\n",
              "    </tr>\n",
              "    <tr>\n",
              "      <th>10</th>\n",
              "      <td>2017</td>\n",
              "      <td>December</td>\n",
              "      <td>12</td>\n",
              "      <td>48420.580645</td>\n",
              "    </tr>\n",
              "    <tr>\n",
              "      <th>24</th>\n",
              "      <td>2018</td>\n",
              "      <td>January</td>\n",
              "      <td>1</td>\n",
              "      <td>58580.096774</td>\n",
              "    </tr>\n",
              "    <tr>\n",
              "      <th>23</th>\n",
              "      <td>2018</td>\n",
              "      <td>February</td>\n",
              "      <td>2</td>\n",
              "      <td>65679.000000</td>\n",
              "    </tr>\n",
              "    <tr>\n",
              "      <th>27</th>\n",
              "      <td>2018</td>\n",
              "      <td>March</td>\n",
              "      <td>3</td>\n",
              "      <td>62693.774194</td>\n",
              "    </tr>\n",
              "    <tr>\n",
              "      <th>20</th>\n",
              "      <td>2018</td>\n",
              "      <td>April</td>\n",
              "      <td>4</td>\n",
              "      <td>62350.833333</td>\n",
              "    </tr>\n",
              "    <tr>\n",
              "      <th>28</th>\n",
              "      <td>2018</td>\n",
              "      <td>May</td>\n",
              "      <td>5</td>\n",
              "      <td>56562.870968</td>\n",
              "    </tr>\n",
              "    <tr>\n",
              "      <th>26</th>\n",
              "      <td>2018</td>\n",
              "      <td>June</td>\n",
              "      <td>6</td>\n",
              "      <td>70117.000000</td>\n",
              "    </tr>\n",
              "    <tr>\n",
              "      <th>25</th>\n",
              "      <td>2018</td>\n",
              "      <td>July</td>\n",
              "      <td>7</td>\n",
              "      <td>63591.064516</td>\n",
              "    </tr>\n",
              "    <tr>\n",
              "      <th>21</th>\n",
              "      <td>2018</td>\n",
              "      <td>August</td>\n",
              "      <td>8</td>\n",
              "      <td>62831.612903</td>\n",
              "    </tr>\n",
              "    <tr>\n",
              "      <th>31</th>\n",
              "      <td>2018</td>\n",
              "      <td>September</td>\n",
              "      <td>9</td>\n",
              "      <td>65941.733333</td>\n",
              "    </tr>\n",
              "    <tr>\n",
              "      <th>30</th>\n",
              "      <td>2018</td>\n",
              "      <td>October</td>\n",
              "      <td>10</td>\n",
              "      <td>111378.142857</td>\n",
              "    </tr>\n",
              "    <tr>\n",
              "      <th>29</th>\n",
              "      <td>2018</td>\n",
              "      <td>November</td>\n",
              "      <td>11</td>\n",
              "      <td>78688.333333</td>\n",
              "    </tr>\n",
              "    <tr>\n",
              "      <th>22</th>\n",
              "      <td>2018</td>\n",
              "      <td>December</td>\n",
              "      <td>12</td>\n",
              "      <td>80047.483871</td>\n",
              "    </tr>\n",
              "    <tr>\n",
              "      <th>36</th>\n",
              "      <td>2019</td>\n",
              "      <td>January</td>\n",
              "      <td>1</td>\n",
              "      <td>102056.516129</td>\n",
              "    </tr>\n",
              "    <tr>\n",
              "      <th>35</th>\n",
              "      <td>2019</td>\n",
              "      <td>February</td>\n",
              "      <td>2</td>\n",
              "      <td>105968.357143</td>\n",
              "    </tr>\n",
              "    <tr>\n",
              "      <th>39</th>\n",
              "      <td>2019</td>\n",
              "      <td>March</td>\n",
              "      <td>3</td>\n",
              "      <td>91214.483871</td>\n",
              "    </tr>\n",
              "    <tr>\n",
              "      <th>32</th>\n",
              "      <td>2019</td>\n",
              "      <td>April</td>\n",
              "      <td>4</td>\n",
              "      <td>89368.433333</td>\n",
              "    </tr>\n",
              "    <tr>\n",
              "      <th>40</th>\n",
              "      <td>2019</td>\n",
              "      <td>May</td>\n",
              "      <td>5</td>\n",
              "      <td>91439.903226</td>\n",
              "    </tr>\n",
              "    <tr>\n",
              "      <th>38</th>\n",
              "      <td>2019</td>\n",
              "      <td>June</td>\n",
              "      <td>6</td>\n",
              "      <td>90435.642857</td>\n",
              "    </tr>\n",
              "    <tr>\n",
              "      <th>37</th>\n",
              "      <td>2019</td>\n",
              "      <td>July</td>\n",
              "      <td>7</td>\n",
              "      <td>97236.566667</td>\n",
              "    </tr>\n",
              "    <tr>\n",
              "      <th>33</th>\n",
              "      <td>2019</td>\n",
              "      <td>August</td>\n",
              "      <td>8</td>\n",
              "      <td>102717.310345</td>\n",
              "    </tr>\n",
              "    <tr>\n",
              "      <th>43</th>\n",
              "      <td>2019</td>\n",
              "      <td>September</td>\n",
              "      <td>9</td>\n",
              "      <td>97268.833333</td>\n",
              "    </tr>\n",
              "    <tr>\n",
              "      <th>42</th>\n",
              "      <td>2019</td>\n",
              "      <td>October</td>\n",
              "      <td>10</td>\n",
              "      <td>122802.272727</td>\n",
              "    </tr>\n",
              "    <tr>\n",
              "      <th>41</th>\n",
              "      <td>2019</td>\n",
              "      <td>November</td>\n",
              "      <td>11</td>\n",
              "      <td>143166.428571</td>\n",
              "    </tr>\n",
              "    <tr>\n",
              "      <th>34</th>\n",
              "      <td>2019</td>\n",
              "      <td>December</td>\n",
              "      <td>12</td>\n",
              "      <td>150733.500000</td>\n",
              "    </tr>\n",
              "  </tbody>\n",
              "</table>\n",
              "</div>"
            ],
            "text/plain": [
              "    year      month  month_num          value\n",
              "4   2016        May          5   19432.400000\n",
              "3   2016       June          6   21875.105263\n",
              "2   2016       July          7   24109.678571\n",
              "0   2016     August          8   31049.193548\n",
              "7   2016  September          9   41476.866667\n",
              "6   2016    October         10   27398.322581\n",
              "5   2016   November         11   40448.633333\n",
              "1   2016   December         12   27832.419355\n",
              "12  2017    January          1   32785.161290\n",
              "11  2017   February          2   31113.071429\n",
              "15  2017      March          3   29369.096774\n",
              "8   2017      April          4   30878.733333\n",
              "16  2017        May          5   34244.290323\n",
              "14  2017       June          6   43577.500000\n",
              "13  2017       July          7   65806.838710\n",
              "9   2017     August          8   47712.451613\n",
              "19  2017  September          9   47376.800000\n",
              "18  2017    October         10   47438.709677\n",
              "17  2017   November         11   57701.566667\n",
              "10  2017   December         12   48420.580645\n",
              "24  2018    January          1   58580.096774\n",
              "23  2018   February          2   65679.000000\n",
              "27  2018      March          3   62693.774194\n",
              "20  2018      April          4   62350.833333\n",
              "28  2018        May          5   56562.870968\n",
              "26  2018       June          6   70117.000000\n",
              "25  2018       July          7   63591.064516\n",
              "21  2018     August          8   62831.612903\n",
              "31  2018  September          9   65941.733333\n",
              "30  2018    October         10  111378.142857\n",
              "29  2018   November         11   78688.333333\n",
              "22  2018   December         12   80047.483871\n",
              "36  2019    January          1  102056.516129\n",
              "35  2019   February          2  105968.357143\n",
              "39  2019      March          3   91214.483871\n",
              "32  2019      April          4   89368.433333\n",
              "40  2019        May          5   91439.903226\n",
              "38  2019       June          6   90435.642857\n",
              "37  2019       July          7   97236.566667\n",
              "33  2019     August          8  102717.310345\n",
              "43  2019  September          9   97268.833333\n",
              "42  2019    October         10  122802.272727\n",
              "41  2019   November         11  143166.428571\n",
              "34  2019   December         12  150733.500000"
            ]
          },
          "metadata": {
            "tags": []
          },
          "execution_count": 8
        }
      ]
    },
    {
      "cell_type": "code",
      "metadata": {
        "colab": {
          "base_uri": "https://localhost:8080/",
          "height": 383
        },
        "id": "VQwB6jw9rXsJ",
        "outputId": "c6cda3a4-fcfe-4f1f-9a43-df4425777ee5"
      },
      "source": [
        "g = sns.catplot(\r\n",
        "    x='year', y='value', data = df_bar,\r\n",
        "    kind = 'bar', hue='month')\r\n",
        "g.set(xlabel = 'Years')\r\n",
        "g.set(ylabel = 'Average Page Views')\r\n",
        "g._legend.set_title('Months')"
      ],
      "execution_count": null,
      "outputs": [
        {
          "output_type": "display_data",
          "data": {
            "image/png": "[encoded data removed]",
            "text/plain": [
              "<Figure size 450.75x360 with 1 Axes>"
            ]
          },
          "metadata": {
            "tags": [],
            "needs_background": "light"
          }
        }
      ]
    },
    {
      "cell_type": "code",
      "metadata": {
        "colab": {
          "base_uri": "https://localhost:8080/",
          "height": 402
        },
        "id": "_th5rqHF2OFa",
        "outputId": "11b306d4-53d3-402c-9ea6-0c8d3dc22cdc"
      },
      "source": [
        "df_box = df.copy()\r\n",
        "df_box.reset_index(inplace=True)\r\n",
        "df_box['year'] = [d.year for d in df_box.date]\r\n",
        "df_box['month'] = [d.strftime('%b') for d in df_box.date]\r\n",
        "df_box['month_num'] = [d.month for d in df_box.date]\r\n",
        "df_box = df_box.sort_values(by='month_num')\r\n",
        "\r\n",
        "df_box"
      ],
      "execution_count": null,
      "outputs": [
        {
          "output_type": "execute_result",
          "data": {
            "text/html": [
              "<div>\n",
              "<style scoped>\n",
              "    .dataframe tbody tr th:only-of-type {\n",
              "        vertical-align: middle;\n",
              "    }\n",
              "\n",
              "    .dataframe tbody tr th {\n",
              "        vertical-align: top;\n",
              "    }\n",
              "\n",
              "    .dataframe thead th {\n",
              "        text-align: right;\n",
              "    }\n",
              "</style>\n",
              "<table border=\"1\" class=\"dataframe\">\n",
              "  <thead>\n",
              "    <tr style=\"text-align: right;\">\n",
              "      <th></th>\n",
              "      <th>date</th>\n",
              "      <th>value</th>\n",
              "      <th>year</th>\n",
              "      <th>month</th>\n",
              "      <th>month_num</th>\n",
              "    </tr>\n",
              "  </thead>\n",
              "  <tbody>\n",
              "    <tr>\n",
              "      <th>210</th>\n",
              "      <td>2017-01-06</td>\n",
              "      <td>37353</td>\n",
              "      <td>2017</td>\n",
              "      <td>Jan</td>\n",
              "      <td>1</td>\n",
              "    </tr>\n",
              "    <tr>\n",
              "      <th>937</th>\n",
              "      <td>2019-01-06</td>\n",
              "      <td>94108</td>\n",
              "      <td>2019</td>\n",
              "      <td>Jan</td>\n",
              "      <td>1</td>\n",
              "    </tr>\n",
              "    <tr>\n",
              "      <th>936</th>\n",
              "      <td>2019-01-05</td>\n",
              "      <td>77897</td>\n",
              "      <td>2019</td>\n",
              "      <td>Jan</td>\n",
              "      <td>1</td>\n",
              "    </tr>\n",
              "    <tr>\n",
              "      <th>935</th>\n",
              "      <td>2019-01-04</td>\n",
              "      <td>94514</td>\n",
              "      <td>2019</td>\n",
              "      <td>Jan</td>\n",
              "      <td>1</td>\n",
              "    </tr>\n",
              "    <tr>\n",
              "      <th>934</th>\n",
              "      <td>2019-01-03</td>\n",
              "      <td>100710</td>\n",
              "      <td>2019</td>\n",
              "      <td>Jan</td>\n",
              "      <td>1</td>\n",
              "    </tr>\n",
              "    <tr>\n",
              "      <th>...</th>\n",
              "      <td>...</td>\n",
              "      <td>...</td>\n",
              "      <td>...</td>\n",
              "      <td>...</td>\n",
              "      <td>...</td>\n",
              "    </tr>\n",
              "    <tr>\n",
              "      <th>567</th>\n",
              "      <td>2017-12-29</td>\n",
              "      <td>72819</td>\n",
              "      <td>2017</td>\n",
              "      <td>Dec</td>\n",
              "      <td>12</td>\n",
              "    </tr>\n",
              "    <tr>\n",
              "      <th>566</th>\n",
              "      <td>2017-12-28</td>\n",
              "      <td>51018</td>\n",
              "      <td>2017</td>\n",
              "      <td>Dec</td>\n",
              "      <td>12</td>\n",
              "    </tr>\n",
              "    <tr>\n",
              "      <th>565</th>\n",
              "      <td>2017-12-27</td>\n",
              "      <td>43075</td>\n",
              "      <td>2017</td>\n",
              "      <td>Dec</td>\n",
              "      <td>12</td>\n",
              "    </tr>\n",
              "    <tr>\n",
              "      <th>201</th>\n",
              "      <td>2016-12-28</td>\n",
              "      <td>28424</td>\n",
              "      <td>2016</td>\n",
              "      <td>Dec</td>\n",
              "      <td>12</td>\n",
              "    </tr>\n",
              "    <tr>\n",
              "      <th>1237</th>\n",
              "      <td>2019-12-03</td>\n",
              "      <td>158549</td>\n",
              "      <td>2019</td>\n",
              "      <td>Dec</td>\n",
              "      <td>12</td>\n",
              "    </tr>\n",
              "  </tbody>\n",
              "</table>\n",
              "<p>1238 rows × 5 columns</p>\n",
              "</div>"
            ],
            "text/plain": [
              "           date   value  year month  month_num\n",
              "210  2017-01-06   37353  2017   Jan          1\n",
              "937  2019-01-06   94108  2019   Jan          1\n",
              "936  2019-01-05   77897  2019   Jan          1\n",
              "935  2019-01-04   94514  2019   Jan          1\n",
              "934  2019-01-03  100710  2019   Jan          1\n",
              "...         ...     ...   ...   ...        ...\n",
              "567  2017-12-29   72819  2017   Dec         12\n",
              "566  2017-12-28   51018  2017   Dec         12\n",
              "565  2017-12-27   43075  2017   Dec         12\n",
              "201  2016-12-28   28424  2016   Dec         12\n",
              "1237 2019-12-03  158549  2019   Dec         12\n",
              "\n",
              "[1238 rows x 5 columns]"
            ]
          },
          "metadata": {
            "tags": []
          },
          "execution_count": 27
        }
      ]
    },
    {
      "cell_type": "code",
      "metadata": {
        "colab": {
          "base_uri": "https://localhost:8080/",
          "height": 530
        },
        "id": "j5dlLiJT94Yj",
        "outputId": "c78c9bad-6320-4ba7-bb4c-8f7020107925"
      },
      "source": [
        "\r\n",
        "fig, (ax1, ax2) = plt.subplots(ncols=2, sharey=True)\r\n",
        "fig.set_size_inches(20, 8)\r\n",
        "\r\n",
        "ax1 = sns.boxplot(x=df_box['year'], y=df_box['value'], data=df_box, ax=ax1)\r\n",
        "ax1.set(xlabel='Year')\r\n",
        "ax1.set(ylabel='Page Views')\r\n",
        "ax1.set(title='Year-Wise Box Plot (Trend)')\r\n",
        "\r\n",
        "ax2 = sns.boxplot(x=df_box['month'], y=df_box['value'], data=df_box, ax=ax2)\r\n",
        "ax2.set(xlabel='Month')\r\n",
        "ax2.set(ylabel='Page Views')\r\n",
        "ax2.set(title='Month-Wise Box Plot (Seasonality)')"
      ],
      "execution_count": null,
      "outputs": [
        {
          "output_type": "execute_result",
          "data": {
            "text/plain": [
              "[Text(0.5, 1.0, 'Month-Wise Box Plot (Seasonality)')]"
            ]
          },
          "metadata": {
            "tags": []
          },
          "execution_count": 38
        },
        {
          "output_type": "display_data",
          "data": {
            "image/png": "[encoded data removed]",
            "text/plain": [
              "<Figure size 1440x576 with 2 Axes>"
            ]
          },
          "metadata": {
            "tags": [],
            "needs_background": "light"
          }
        }
      ]
    },
    {
      "cell_type": "code",
      "metadata": {
        "colab": {
          "base_uri": "https://localhost:8080/",
          "height": 312
        },
        "id": "8Y31WQQH2iu3",
        "outputId": "69adef1c-a4c4-4c80-fd09-2969f69cf389"
      },
      "source": [
        ""
      ],
      "execution_count": null,
      "outputs": [
        {
          "output_type": "execute_result",
          "data": {
            "text/plain": [
              "[Text(0.5, 1.0, 'Year-Wise Box Plot (Trend)')]"
            ]
          },
          "metadata": {
            "tags": []
          },
          "execution_count": 24
        },
        {
          "output_type": "display_data",
          "data": {
            "image/png": "[encoded data removed]",
            "text/plain": [
              "<Figure size 432x288 with 1 Axes>"
            ]
          },
          "metadata": {
            "tags": [],
            "needs_background": "light"
          }
        }
      ]
    },
    {
      "cell_type": "code",
      "metadata": {
        "colab": {
          "base_uri": "https://localhost:8080/",
          "height": 312
        },
        "id": "q6zdUjZj51zT",
        "outputId": "04816d6c-95a1-4c22-8617-d0843be506fa"
      },
      "source": [
        ""
      ],
      "execution_count": null,
      "outputs": [
        {
          "output_type": "execute_result",
          "data": {
            "text/plain": [
              "[Text(0.5, 1.0, 'Month-Wise Box Plot (Seasonality)')]"
            ]
          },
          "metadata": {
            "tags": []
          },
          "execution_count": 23
        },
        {
          "output_type": "display_data",
          "data": {
            "image/png": "[encoded data removed]",
            "text/plain": [
              "<Figure size 432x288 with 1 Axes>"
            ]
          },
          "metadata": {
            "tags": [],
            "needs_background": "light"
          }
        }
      ]
    },
    {
      "cell_type": "code",
      "metadata": {
        "id": "RIfcmbfL7Wft"
      },
      "source": [
        ""
      ],
      "execution_count": null,
      "outputs": []
    }
  ]
}